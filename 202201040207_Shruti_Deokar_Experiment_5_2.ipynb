{
  "nbformat": 4,
  "nbformat_minor": 0,
  "metadata": {
    "colab": {
      "provenance": []
    },
    "kernelspec": {
      "name": "python3",
      "display_name": "Python 3"
    },
    "language_info": {
      "name": "python"
    }
  },
  "cells": [
    {
      "cell_type": "markdown",
      "source": [
        "# **Experiment 5.2:** Sequence Text Prediction using LSTM\n",
        "\n",
        "**Objective:**\n",
        "To generate the next character (or word) in a sequence using an LSTM model trained on a text dataset."
      ],
      "metadata": {
        "id": "p3urvsIfCbmf"
      }
    },
    {
      "cell_type": "markdown",
      "source": [
        "**Dataset :Pride and Prejudice – Jane Austen (Project Gutenberg)**\n"
      ],
      "metadata": {
        "id": "I3os5yDVCmY5"
      }
    },
    {
      "cell_type": "markdown",
      "source": [
        "Step 1: Import Required Libraries"
      ],
      "metadata": {
        "id": "JQfLgnZQFqz3"
      }
    },
    {
      "cell_type": "code",
      "source": [
        "import numpy as np\n",
        "import matplotlib.pyplot as plt\n",
        "from tensorflow.keras.models import Sequential\n",
        "from tensorflow.keras.layers import Dense, LSTM, Embedding\n",
        "from tensorflow.keras.utils import to_categorical\n",
        "from tensorflow.keras.optimizers import Adam\n"
      ],
      "metadata": {
        "id": "F1wNpo_kDVxa"
      },
      "execution_count": 5,
      "outputs": []
    },
    {
      "cell_type": "markdown",
      "source": [
        "Step 2: Load and Preprocess the Text Data"
      ],
      "metadata": {
        "id": "uVcd8fFPFtiy"
      }
    },
    {
      "cell_type": "code",
      "source": [
        "# Load text file\n",
        "with open(\"pride_prejudice.txt\", 'r', encoding='utf-8') as file:\n",
        "    text = file.read().lower()\n",
        "\n",
        "# Display part of the text\n",
        "print(text[:500])\n"
      ],
      "metadata": {
        "colab": {
          "base_uri": "https://localhost:8080/"
        },
        "id": "s9sHGo6FD1s_",
        "outputId": "de58c7f2-d6d3-4de4-f237-503fa4b07df3"
      },
      "execution_count": 1,
      "outputs": [
        {
          "output_type": "stream",
          "name": "stdout",
          "text": [
            "the project gutenberg ebook of pride and prejudice\n",
            "    \n",
            "this ebook is for the use of anyone anywhere in the united states and\n",
            "most other parts of the world at no cost and with almost no restrictions\n",
            "whatsoever. you may copy it, give it away or re-use it under the terms\n",
            "of the project gutenberg license included with this ebook or online\n",
            "at www.gutenberg.org. if you are not located in the united states,\n",
            "you will have to check the laws of the country where you are located\n",
            "before using this ebook.\n",
            "\n",
            "\n"
          ]
        }
      ]
    },
    {
      "cell_type": "markdown",
      "source": [
        "Step 3: Create Character-to-Index Mappings"
      ],
      "metadata": {
        "id": "Znl9DeL2Fyi6"
      }
    },
    {
      "cell_type": "code",
      "source": [
        "chars = sorted(list(set(text)))\n",
        "char_to_idx = {c: i for i, c in enumerate(chars)}\n",
        "idx_to_char = {i: c for i, c in enumerate(chars)}\n",
        "vocab_size = len(chars)\n",
        "\n",
        "print(\"Total Characters:\", len(text))\n",
        "print(\"Unique Characters:\", vocab_size)\n"
      ],
      "metadata": {
        "colab": {
          "base_uri": "https://localhost:8080/"
        },
        "id": "L9WbfUhgDZCK",
        "outputId": "c30c8edb-650f-45be-b6e9-7c5d90a59067"
      },
      "execution_count": 2,
      "outputs": [
        {
          "output_type": "stream",
          "name": "stdout",
          "text": [
            "Total Characters: 748124\n",
            "Unique Characters: 72\n"
          ]
        }
      ]
    },
    {
      "cell_type": "markdown",
      "source": [
        " Step 4: Prepare Sequences"
      ],
      "metadata": {
        "id": "wqDeknIMF1sI"
      }
    },
    {
      "source": [
        "import numpy as np # Import the numpy library and give it the alias 'np'\n",
        "seq_length = 100\n",
        "X_data = []\n",
        "y_data = []\n",
        "\n",
        "for i in range(0, len(text) - seq_length):\n",
        "    seq = text[i:i + seq_length]\n",
        "    label = text[i + seq_length]\n",
        "    X_data.append([char_to_idx[char] for char in seq])\n",
        "    y_data.append(char_to_idx[label])\n",
        "\n",
        "# Convert to numpy and one-hot encode output\n",
        "X = np.array(X_data)\n",
        "y = to_categorical(y_data, num_classes=vocab_size)"
      ],
      "cell_type": "code",
      "metadata": {
        "id": "sQoVxg0KKShj"
      },
      "execution_count": 6,
      "outputs": []
    },
    {
      "cell_type": "markdown",
      "source": [
        "Step 5: Build the LSTM Model"
      ],
      "metadata": {
        "id": "wKG5ZEemF4c5"
      }
    },
    {
      "source": [
        "model = Sequential()\n",
        "model.add(Embedding(input_dim=vocab_size, output_dim=64, input_length=seq_length))\n",
        "model.add(LSTM(256, return_sequences=False))\n",
        "model.add(Dense(vocab_size, activation='softmax'))\n",
        "\n",
        "model.compile(loss='categorical_crossentropy', optimizer=Adam(learning_rate=0.001))\n",
        "model.summary()\n"
      ],
      "cell_type": "code",
      "metadata": {
        "id": "89KK3dWAFHZ_",
        "colab": {
          "base_uri": "https://localhost:8080/",
          "height": 261
        },
        "outputId": "cb322702-7cb5-45c1-93bd-cb03cc51dc73"
      },
      "execution_count": 7,
      "outputs": [
        {
          "output_type": "stream",
          "name": "stderr",
          "text": [
            "/usr/local/lib/python3.11/dist-packages/keras/src/layers/core/embedding.py:90: UserWarning: Argument `input_length` is deprecated. Just remove it.\n",
            "  warnings.warn(\n"
          ]
        },
        {
          "output_type": "display_data",
          "data": {
            "text/plain": [
              "\u001b[1mModel: \"sequential\"\u001b[0m\n"
            ],
            "text/html": [
              "<pre style=\"white-space:pre;overflow-x:auto;line-height:normal;font-family:Menlo,'DejaVu Sans Mono',consolas,'Courier New',monospace\"><span style=\"font-weight: bold\">Model: \"sequential\"</span>\n",
              "</pre>\n"
            ]
          },
          "metadata": {}
        },
        {
          "output_type": "display_data",
          "data": {
            "text/plain": [
              "┏━━━━━━━━━━━━━━━━━━━━━━━━━━━━━━━━━┳━━━━━━━━━━━━━━━━━━━━━━━━┳━━━━━━━━━━━━━━━┓\n",
              "┃\u001b[1m \u001b[0m\u001b[1mLayer (type)                   \u001b[0m\u001b[1m \u001b[0m┃\u001b[1m \u001b[0m\u001b[1mOutput Shape          \u001b[0m\u001b[1m \u001b[0m┃\u001b[1m \u001b[0m\u001b[1m      Param #\u001b[0m\u001b[1m \u001b[0m┃\n",
              "┡━━━━━━━━━━━━━━━━━━━━━━━━━━━━━━━━━╇━━━━━━━━━━━━━━━━━━━━━━━━╇━━━━━━━━━━━━━━━┩\n",
              "│ embedding (\u001b[38;5;33mEmbedding\u001b[0m)           │ ?                      │   \u001b[38;5;34m0\u001b[0m (unbuilt) │\n",
              "├─────────────────────────────────┼────────────────────────┼───────────────┤\n",
              "│ lstm (\u001b[38;5;33mLSTM\u001b[0m)                     │ ?                      │   \u001b[38;5;34m0\u001b[0m (unbuilt) │\n",
              "├─────────────────────────────────┼────────────────────────┼───────────────┤\n",
              "│ dense (\u001b[38;5;33mDense\u001b[0m)                   │ ?                      │   \u001b[38;5;34m0\u001b[0m (unbuilt) │\n",
              "└─────────────────────────────────┴────────────────────────┴───────────────┘\n"
            ],
            "text/html": [
              "<pre style=\"white-space:pre;overflow-x:auto;line-height:normal;font-family:Menlo,'DejaVu Sans Mono',consolas,'Courier New',monospace\">┏━━━━━━━━━━━━━━━━━━━━━━━━━━━━━━━━━┳━━━━━━━━━━━━━━━━━━━━━━━━┳━━━━━━━━━━━━━━━┓\n",
              "┃<span style=\"font-weight: bold\"> Layer (type)                    </span>┃<span style=\"font-weight: bold\"> Output Shape           </span>┃<span style=\"font-weight: bold\">       Param # </span>┃\n",
              "┡━━━━━━━━━━━━━━━━━━━━━━━━━━━━━━━━━╇━━━━━━━━━━━━━━━━━━━━━━━━╇━━━━━━━━━━━━━━━┩\n",
              "│ embedding (<span style=\"color: #0087ff; text-decoration-color: #0087ff\">Embedding</span>)           │ ?                      │   <span style=\"color: #00af00; text-decoration-color: #00af00\">0</span> (unbuilt) │\n",
              "├─────────────────────────────────┼────────────────────────┼───────────────┤\n",
              "│ lstm (<span style=\"color: #0087ff; text-decoration-color: #0087ff\">LSTM</span>)                     │ ?                      │   <span style=\"color: #00af00; text-decoration-color: #00af00\">0</span> (unbuilt) │\n",
              "├─────────────────────────────────┼────────────────────────┼───────────────┤\n",
              "│ dense (<span style=\"color: #0087ff; text-decoration-color: #0087ff\">Dense</span>)                   │ ?                      │   <span style=\"color: #00af00; text-decoration-color: #00af00\">0</span> (unbuilt) │\n",
              "└─────────────────────────────────┴────────────────────────┴───────────────┘\n",
              "</pre>\n"
            ]
          },
          "metadata": {}
        },
        {
          "output_type": "display_data",
          "data": {
            "text/plain": [
              "\u001b[1m Total params: \u001b[0m\u001b[38;5;34m0\u001b[0m (0.00 B)\n"
            ],
            "text/html": [
              "<pre style=\"white-space:pre;overflow-x:auto;line-height:normal;font-family:Menlo,'DejaVu Sans Mono',consolas,'Courier New',monospace\"><span style=\"font-weight: bold\"> Total params: </span><span style=\"color: #00af00; text-decoration-color: #00af00\">0</span> (0.00 B)\n",
              "</pre>\n"
            ]
          },
          "metadata": {}
        },
        {
          "output_type": "display_data",
          "data": {
            "text/plain": [
              "\u001b[1m Trainable params: \u001b[0m\u001b[38;5;34m0\u001b[0m (0.00 B)\n"
            ],
            "text/html": [
              "<pre style=\"white-space:pre;overflow-x:auto;line-height:normal;font-family:Menlo,'DejaVu Sans Mono',consolas,'Courier New',monospace\"><span style=\"font-weight: bold\"> Trainable params: </span><span style=\"color: #00af00; text-decoration-color: #00af00\">0</span> (0.00 B)\n",
              "</pre>\n"
            ]
          },
          "metadata": {}
        },
        {
          "output_type": "display_data",
          "data": {
            "text/plain": [
              "\u001b[1m Non-trainable params: \u001b[0m\u001b[38;5;34m0\u001b[0m (0.00 B)\n"
            ],
            "text/html": [
              "<pre style=\"white-space:pre;overflow-x:auto;line-height:normal;font-family:Menlo,'DejaVu Sans Mono',consolas,'Courier New',monospace\"><span style=\"font-weight: bold\"> Non-trainable params: </span><span style=\"color: #00af00; text-decoration-color: #00af00\">0</span> (0.00 B)\n",
              "</pre>\n"
            ]
          },
          "metadata": {}
        }
      ]
    },
    {
      "cell_type": "markdown",
      "source": [
        "Step 6: Train the Model"
      ],
      "metadata": {
        "id": "RtCClnwaGSZt"
      }
    },
    {
      "cell_type": "code",
      "source": [
        "history = model.fit(X, y, epochs=2, batch_size=128, validation_split=0.1)\n"
      ],
      "metadata": {
        "id": "MqLQ_IakFLbI",
        "colab": {
          "base_uri": "https://localhost:8080/"
        },
        "outputId": "cc0a1c3f-90d3-4e0a-f87c-b8d1d40565dd"
      },
      "execution_count": 11,
      "outputs": [
        {
          "output_type": "stream",
          "name": "stdout",
          "text": [
            "Epoch 1/2\n",
            "\u001b[1m5260/5260\u001b[0m \u001b[32m━━━━━━━━━━━━━━━━━━━━\u001b[0m\u001b[37m\u001b[0m \u001b[1m4114s\u001b[0m 782ms/step - loss: 1.6799 - val_loss: 1.6141\n",
            "Epoch 2/2\n",
            "\u001b[1m5260/5260\u001b[0m \u001b[32m━━━━━━━━━━━━━━━━━━━━\u001b[0m\u001b[37m\u001b[0m \u001b[1m4230s\u001b[0m 795ms/step - loss: 1.3844 - val_loss: 1.5293\n"
          ]
        }
      ]
    },
    {
      "cell_type": "markdown",
      "source": [
        "Step 7: Plot Training Accuracy and Loss"
      ],
      "metadata": {
        "id": "7Gc_4jL9F75F"
      }
    },
    {
      "cell_type": "code",
      "source": [
        "plt.plot(history.history['loss'], label='Training Loss')\n",
        "plt.plot(history.history['val_loss'], label='Validation Loss')\n",
        "plt.legend()\n",
        "plt.title(\"Loss over Epochs\")\n",
        "plt.xlabel(\"Epoch\")\n",
        "plt.ylabel(\"Loss\")\n",
        "plt.show()\n"
      ],
      "metadata": {
        "id": "tivckVXzFOQM",
        "colab": {
          "base_uri": "https://localhost:8080/",
          "height": 472
        },
        "outputId": "8932824f-bba3-44ec-94a1-23cdc0eb18ad"
      },
      "execution_count": 12,
      "outputs": [
        {
          "output_type": "display_data",
          "data": {
            "text/plain": [
              "<Figure size 640x480 with 1 Axes>"
            ],
            "image/png": "[encoded data removed]"
          },
          "metadata": {}
        }
      ]
    },
    {
      "cell_type": "markdown",
      "source": [
        "Step 8: Text Generation Function"
      ],
      "metadata": {
        "id": "jsqn16IaF-cJ"
      }
    },
    {
      "cell_type": "code",
      "source": [
        "def generate_text(seed_text, gen_length=200):\n",
        "    input_seq = [char_to_idx[char] for char in seed_text.lower()[-seq_length:]]\n",
        "    for _ in range(gen_length):\n",
        "        input_padded = np.array(input_seq[-seq_length:]).reshape(1, -1)\n",
        "        predicted_probs = model.predict(input_padded, verbose=0)[0]\n",
        "        predicted_char_index = np.random.choice(range(vocab_size), p=predicted_probs)\n",
        "        predicted_char = idx_to_char[predicted_char_index]\n",
        "        seed_text += predicted_char\n",
        "        input_seq.append(predicted_char_index)\n",
        "    return seed_text\n"
      ],
      "metadata": {
        "id": "oMzaeMlXFQ0w"
      },
      "execution_count": 13,
      "outputs": []
    },
    {
      "cell_type": "markdown",
      "source": [
        "Step 9: Try Generating Text!\n",
        "\n"
      ],
      "metadata": {
        "id": "p_5wVhjEGAog"
      }
    },
    {
      "cell_type": "code",
      "source": [
        "seed = \"it is a truth universally acknowledged\"\n",
        "generated = generate_text(seed, gen_length=300)\n",
        "print(\"\\n--- Generated Text ---\\n\")\n",
        "print(generated)\n"
      ],
      "metadata": {
        "colab": {
          "base_uri": "https://localhost:8080/"
        },
        "id": "wylSn2IgFYRg",
        "outputId": "5e851987-248f-4405-8db9-df2c35a509dd"
      },
      "execution_count": 14,
      "outputs": [
        {
          "output_type": "stream",
          "name": "stdout",
          "text": [
            "\n",
            "--- Generated Text ---\n",
            "\n",
            "it is a truth universally acknowledged to merything, in him tonst sup1iss. elongem. mr. i believe scaritaly talk at least\n",
            "miss bingley’s lucas; but you are longur that while i ceoded represently as you have leave much as you knowled”\n",
            "\n",
            "“it was mattry are not ever why well i hoped her viesing to--it was folded appear, with an air by tiler\n"
          ]
        }
      ]
    },
    {
      "cell_type": "markdown",
      "source": [
        "# **Declaration**\n",
        "\n",
        "I, Shruti Deokar, confirm that the work submitted in this assignment is my own and has been completed following academic integrity guidelines. The code is uploaded on my GitHub repository account, and the repository link is provided below:\n",
        "\n",
        "GitHub Repository Link: https://github.com/shrutideokar/deeplearning\n",
        "\n",
        "Signature: Shruti Jitendra Deokar"
      ],
      "metadata": {
        "id": "N6UXnYsYH7kC"
      }
    }
  ]
}
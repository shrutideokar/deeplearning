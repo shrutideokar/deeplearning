{
  "nbformat": 4,
  "nbformat_minor": 0,
  "metadata": {
    "colab": {
      "provenance": []
    },
    "kernelspec": {
      "name": "python3",
      "display_name": "Python 3"
    },
    "language_info": {
      "name": "python"
    }
  },
  "cells": [
    {
      "cell_type": "markdown",
      "source": [
        "# Google Colab Lab Assignment -NLP\n",
        "Course Name: Deep Learning\n",
        "\n",
        "Lab Title: NLP Techniques for Text Classification\n",
        "\n",
        "Student Name:**Shruti Deokar**\n",
        "\n",
        "Student ID:**202201040207**\n",
        "\n",
        "Date of Submission: 1/4/2025\n",
        "\n",
        "Group Members: **Riya Garasangi**\n",
        "\n",
        "Objective The objective of this assignment is to implement NLP preprocessing techniques and build a text classification model using machine learning techniques.\n",
        "\n",
        "Learning Outcomes:\n",
        "\n",
        "Understand and apply NLP preprocessing techniques such as tokenization, stopword removal, stemming, and lemmatization.\n",
        "\n",
        "Implement text vectorization techniques such as TF-IDF and CountVectorizer.\n",
        "\n",
        "Develop a text classification model using a machine learning algorithm.\n",
        "\n",
        "Evaluate the performance of the model using suitable metrics."
      ],
      "metadata": {
        "id": "qh-QaCg9QIkD"
      }
    },
    {
      "cell_type": "markdown",
      "source": [
        "# Assignment Instructions:\n",
        "Part 1: NLP Preprocessing\n",
        "\n",
        "Dataset Selection:\n",
        "\n",
        "Dataset: **Twitter Sentiment Analysis Dataset** https://huggingface.co/datasets/carblacac/twitter-sentiment-analysis\n",
        "\n",
        "This dataset groups tweets labeled according to the sentiment they convey, often positive, negative or neutral. It's ideal for NLP models targeting social networks, as it includes informal language, abbreviations and short expressions specific to the tweet format.\n",
        "\n",
        "\n",
        "Download the dataset and upload it to Google Colab.\n",
        "\n",
        "Load the dataset into a Pandas DataFrame and explore its structure (e.g., check missing values, data types, and label distribution).\n",
        "\n",
        "Text Preprocessing:\n",
        "\n",
        "Convert text to lowercase.\n",
        "\n",
        "Perform tokenization using NLTK or spaCy.\n",
        "\n",
        "Remove stopwords using NLTK or spaCy.\n",
        "\n",
        "Apply stemming using PorterStemmer or SnowballStemmer.\n",
        "\n",
        "Apply lemmatization using WordNetLemmatizer.\n",
        "\n",
        "Vectorization Techniques:\n",
        "\n",
        "Convert text data into numerical format using TF-IDF and CountVectorizer."
      ],
      "metadata": {
        "id": "gPWPMpwdQng_"
      }
    },
    {
      "cell_type": "code",
      "source": [
        "import os\n",
        "print(os.listdir())\n"
      ],
      "metadata": {
        "colab": {
          "base_uri": "https://localhost:8080/"
        },
        "id": "eLaiX2hgk5Ap",
        "outputId": "9480047b-45f7-4878-aecf-b9f51dc70c13"
      },
      "execution_count": null,
      "outputs": [
        {
          "output_type": "stream",
          "name": "stdout",
          "text": [
            "['.config', '.ipynb_checkpoints', 'Sentiment Analysis Dataset.csv', 'sample_data']\n"
          ]
        }
      ]
    },
    {
      "cell_type": "code",
      "source": [
        "df = pd.read_csv('Sentiment Analysis Dataset.csv', delimiter=',', on_bad_lines='skip', encoding='ISO-8859-1')\n"
      ],
      "metadata": {
        "id": "d6537NgrnikA"
      },
      "execution_count": null,
      "outputs": []
    },
    {
      "cell_type": "code",
      "source": [
        "import nltk\n",
        "nltk.download('punkt')\n",
        "nltk.download('stopwords')\n",
        "nltk.download('wordnet')\n"
      ],
      "metadata": {
        "colab": {
          "base_uri": "https://localhost:8080/"
        },
        "id": "NsX6lkddnoB7",
        "outputId": "4f737d24-143a-48e4-cd0e-85d4633d4e56"
      },
      "execution_count": null,
      "outputs": [
        {
          "output_type": "stream",
          "name": "stderr",
          "text": [
            "[nltk_data] Downloading package punkt to /root/nltk_data...\n",
            "[nltk_data]   Package punkt is already up-to-date!\n",
            "[nltk_data] Downloading package stopwords to /root/nltk_data...\n",
            "[nltk_data]   Package stopwords is already up-to-date!\n",
            "[nltk_data] Downloading package wordnet to /root/nltk_data...\n",
            "[nltk_data]   Package wordnet is already up-to-date!\n"
          ]
        },
        {
          "output_type": "execute_result",
          "data": {
            "text/plain": [
              "True"
            ]
          },
          "metadata": {},
          "execution_count": 17
        }
      ]
    },
    {
      "cell_type": "code",
      "source": [
        "import pandas as pd\n",
        "import numpy as np\n",
        "import nltk\n",
        "import re\n",
        "from nltk.corpus import stopwords\n",
        "from nltk.tokenize import word_tokenize\n",
        "from nltk.stem import PorterStemmer, WordNetLemmatizer\n",
        "from sklearn.feature_extraction.text import CountVectorizer, TfidfVectorizer\n",
        "\n",
        "# Download necessary NLTK resources\n",
        "nltk.download('punkt')\n",
        "nltk.download('stopwords')\n",
        "nltk.download('wordnet')\n",
        "nltk.download('punkt_tab')\n",
        "\n",
        "# Load the dataset (Twitter Sentiment Analysis from Kaggle)\n",
        "df = pd.read_csv('Sentiment Analysis Dataset.csv', delimiter=',', on_bad_lines='skip', encoding='ISO-8859-1')\n",
        "\n",
        "# Fix column names (remove BOM if present)\n",
        "df.columns = df.columns.str.replace('ï»¿', '', regex=True)\n",
        "\n",
        "# Display dataset structure\n",
        "print(\"Dataset Structure:\")\n",
        "print(df.head())\n",
        "\n",
        "# Check for missing values\n",
        "print(\"\\nMissing values:\")\n",
        "print(df.isnull().sum())\n",
        "\n",
        "# Check label distribution\n",
        "print(\"\\nLabel Distribution:\")\n",
        "if 'Sentiment' in df.columns:\n",
        "    print(df['Sentiment'].value_counts())\n",
        "else:\n",
        "    print(\"Sentiment column not found, check dataset structure.\")\n",
        "\n",
        "# Ensure SentimentText column exists\n",
        "if 'SentimentText' in df.columns:\n",
        "    text_col = 'SentimentText'\n",
        "else:\n",
        "    raise ValueError(\"SentimentText column not found in the dataset.\")\n",
        "\n",
        "# Preprocess text: convert to lowercase and remove punctuation\n",
        "def preprocess_text(text):\n",
        "    if pd.isna(text):\n",
        "        return \"\"  # Handle missing values\n",
        "    text = str(text).lower()\n",
        "    text = re.sub(r'[^a-zA-Z\\s]', '', text)  # Remove punctuation\n",
        "    return text\n",
        "\n",
        "df['cleaned_text'] = df[text_col].apply(preprocess_text)\n",
        "\n",
        "# Tokenization\n",
        "df['tokens'] = df['cleaned_text'].apply(lambda x: word_tokenize(x) if isinstance(x, str) and len(x) > 0 else [])\n",
        "\n",
        "# Remove stopwords\n",
        "stop_words = set(stopwords.words('english'))\n",
        "df['tokens_no_stopwords'] = df['tokens'].apply(lambda tokens: [word for word in tokens if word not in stop_words])\n",
        "\n",
        "# Stemming (using PorterStemmer)\n",
        "stemmer = PorterStemmer()\n",
        "df['stemmed'] = df['tokens_no_stopwords'].apply(lambda tokens: [stemmer.stem(word) for word in tokens])\n",
        "\n",
        "# Lemmatization (using WordNetLemmatizer)\n",
        "lemmatizer = WordNetLemmatizer()\n",
        "df['lemmatized'] = df['tokens_no_stopwords'].apply(lambda tokens: [lemmatizer.lemmatize(word) for word in tokens])\n",
        "\n",
        "# Convert processed tokens back to text for vectorization\n",
        "df['final_text'] = df['lemmatized'].apply(lambda tokens: ' '.join(tokens))\n",
        "\n",
        "# Vectorization (TF-IDF & CountVectorizer)\n",
        "vectorizer_tf = TfidfVectorizer()\n",
        "vectorizer_cv = CountVectorizer()\n",
        "\n",
        "# TF-IDF Matrix\n",
        "tf_idf_matrix = vectorizer_tf.fit_transform(df['final_text'])\n",
        "\n",
        "# Count Vectorizer Matrix\n",
        "count_matrix = vectorizer_cv.fit_transform(df['final_text'])\n",
        "\n",
        "# Print the shapes of the matrices\n",
        "print(\"\\nTF-IDF Matrix Shape:\", tf_idf_matrix.shape)\n",
        "print(\"Count Vectorizer Matrix Shape:\", count_matrix.shape)\n"
      ],
      "metadata": {
        "colab": {
          "base_uri": "https://localhost:8080/"
        },
        "id": "l2CIOAWGnqIx",
        "outputId": "bde567e8-dbcc-408c-ab57-c8802626765d"
      },
      "execution_count": null,
      "outputs": [
        {
          "output_type": "stream",
          "name": "stderr",
          "text": [
            "[nltk_data] Downloading package punkt to /root/nltk_data...\n",
            "[nltk_data]   Package punkt is already up-to-date!\n",
            "[nltk_data] Downloading package stopwords to /root/nltk_data...\n",
            "[nltk_data]   Package stopwords is already up-to-date!\n",
            "[nltk_data] Downloading package wordnet to /root/nltk_data...\n",
            "[nltk_data]   Package wordnet is already up-to-date!\n",
            "[nltk_data] Downloading package punkt_tab to /root/nltk_data...\n",
            "[nltk_data]   Unzipping tokenizers/punkt_tab.zip.\n"
          ]
        },
        {
          "output_type": "stream",
          "name": "stdout",
          "text": [
            "Dataset Structure:\n",
            "   ItemID  Sentiment SentimentSource  \\\n",
            "0       1          0    Sentiment140   \n",
            "1       2          0    Sentiment140   \n",
            "2       3          1    Sentiment140   \n",
            "3       4          0    Sentiment140   \n",
            "4       5          0    Sentiment140   \n",
            "\n",
            "                                       SentimentText  \n",
            "0                       is so sad for my APL frie...  \n",
            "1                     I missed the New Moon trail...  \n",
            "2                            omg its already 7:30 :O  \n",
            "3            .. Omgaga. Im sooo  im gunna CRy. I'...  \n",
            "4           i think mi bf is cheating on me!!!   ...  \n",
            "\n",
            "Missing values:\n",
            "ItemID             0\n",
            "Sentiment          0\n",
            "SentimentSource    0\n",
            "SentimentText      0\n",
            "dtype: int64\n",
            "\n",
            "Label Distribution:\n",
            "Sentiment\n",
            "1    790177\n",
            "0    788435\n",
            "Name: count, dtype: int64\n",
            "\n",
            "TF-IDF Matrix Shape: (1578612, 779217)\n",
            "Count Vectorizer Matrix Shape: (1578612, 779217)\n"
          ]
        }
      ]
    },
    {
      "cell_type": "code",
      "source": [
        "import seaborn as sns\n",
        "import matplotlib.pyplot as plt\n",
        "from sklearn.model_selection import train_test_split\n",
        "from sklearn.linear_model import LogisticRegression\n",
        "from sklearn.naive_bayes import MultinomialNB\n",
        "from sklearn.metrics import accuracy_score, precision_score, recall_score, f1_score, confusion_matrix\n",
        "\n",
        "# Extract feature matrix (TF-IDF) and target labels\n",
        "X = tf_idf_matrix  # Using TF-IDF features\n",
        "y = df['Sentiment']  # Target column (Sentiment)\n",
        "\n",
        "# Splitting the dataset (80% training, 20% testing)\n",
        "X_train, X_test, y_train, y_test = train_test_split(X, y, test_size=0.2, random_state=42, stratify=y)\n",
        "\n",
        "# Train the Logistic Regression model\n",
        "log_model = LogisticRegression()\n",
        "log_model.fit(X_train, y_train)\n",
        "\n",
        "# Train the Naïve Bayes model\n",
        "nb_model = MultinomialNB()\n",
        "nb_model.fit(X_train, y_train)\n",
        "\n",
        "# Predictions\n",
        "y_pred_log = log_model.predict(X_test)\n",
        "y_pred_nb = nb_model.predict(X_test)\n",
        "\n",
        "# Model Evaluation Function\n",
        "def evaluate_model(y_true, y_pred, model_name):\n",
        "    acc = accuracy_score(y_true, y_pred)\n",
        "    prec = precision_score(y_true, y_pred)\n",
        "    rec = recall_score(y_true, y_pred)\n",
        "    f1 = f1_score(y_true, y_pred)\n",
        "\n",
        "    print(f\"\\n{model_name} Model Evaluation:\")\n",
        "    print(f\"Accuracy: {acc:.4f}\")\n",
        "    print(f\"Precision: {prec:.4f}\")\n",
        "    print(f\"Recall: {rec:.4f}\")\n",
        "    print(f\"F1-score: {f1:.4f}\")\n",
        "\n",
        "    # Confusion Matrix\n",
        "    conf_matrix = confusion_matrix(y_true, y_pred)\n",
        "    plt.figure(figsize=(6,5))\n",
        "    sns.heatmap(conf_matrix, annot=True, fmt=\"d\", cmap=\"Blues\", xticklabels=['Negative', 'Positive'], yticklabels=['Negative', 'Positive'])\n",
        "    plt.xlabel('Predicted')\n",
        "    plt.ylabel('Actual')\n",
        "    plt.title(f'Confusion Matrix - {model_name}')\n",
        "    plt.show()\n",
        "\n",
        "# Evaluate Logistic Regression\n",
        "evaluate_model(y_test, y_pred_log, \"Logistic Regression\")\n",
        "\n",
        "# Evaluate Naïve Bayes\n",
        "evaluate_model(y_test, y_pred_nb, \"Naïve Bayes\")\n"
      ],
      "metadata": {
        "colab": {
          "base_uri": "https://localhost:8080/",
          "height": 1000
        },
        "id": "vLZkLwAoovbP",
        "outputId": "141430d2-d8b3-4d58-c65f-755900f41295"
      },
      "execution_count": null,
      "outputs": [
        {
          "output_type": "stream",
          "name": "stdout",
          "text": [
            "\n",
            "Logistic Regression Model Evaluation:\n",
            "Accuracy: 0.7830\n",
            "Precision: 0.7677\n",
            "Recall: 0.8123\n",
            "F1-score: 0.7893\n"
          ]
        },
        {
          "output_type": "display_data",
          "data": {
            "text/plain": [
              "<Figure size 600x500 with 2 Axes>"
            ],
            "image/png": "[encoded data removed]"
          },
          "metadata": {}
        },
        {
          "output_type": "stream",
          "name": "stdout",
          "text": [
            "\n",
            "Naïve Bayes Model Evaluation:\n",
            "Accuracy: 0.7637\n",
            "Precision: 0.7858\n",
            "Recall: 0.7257\n",
            "F1-score: 0.7546\n"
          ]
        },
        {
          "output_type": "display_data",
          "data": {
            "text/plain": [
              "<Figure size 600x500 with 2 Axes>"
            ],
            "image/png": "[encoded data removed]"
          },
          "metadata": {}
        }
      ]
    },
    {
      "cell_type": "code",
      "source": [],
      "metadata": {
        "id": "YEiGI9fiRL01"
      },
      "execution_count": null,
      "outputs": []
    },
    {
      "cell_type": "markdown",
      "source": [
        "# Submission Guidelines:\n",
        "\n",
        "**Google Colab Notebook Submission:**\n",
        "\n",
        "Save your notebook as NLP_Text_Classification_YourName.ipynb.\n",
        "\n",
        "Ensure all code cells are executed, and the output is visible.\n",
        "\n",
        "Include proper documentation and comments explaining each step.\n",
        "\n",
        "**Report Submission (Optional):**\n",
        "\n",
        "Prepare a short report (2-3 pages) summarizing your approach, findings, and model performance.\n",
        "\n",
        "Upload the report along with the Colab Notebook.\n",
        "\n",
        "**Grading Criteria:**\n",
        "\n",
        "Correct implementation of NLP preprocessing (30%)\n",
        "\n",
        "Effective use of vectorization techniques (20%)\n",
        "\n",
        "Model accuracy and performance evaluation (30%)\n",
        "\n",
        "Code clarity, documentation, and presentation (20%)"
      ],
      "metadata": {
        "id": "oG9e4e_BRNEq"
      }
    },
    {
      "cell_type": "markdown",
      "source": [
        "**Declaration**\n",
        "\n",
        "I, Shruti Deokar, confirm that the work submitted in this assignment is my own and has been completed following academic integrity guidelines. The code is uploaded on my GitHub repository account, and the repository link is provided below:\n",
        "\n",
        "GitHub Repository Link: [Insert GitHub Link]\n",
        "\n",
        "Signature: Shruti Jitendra Deokar\n",
        "\n",
        "Submission Checklist\n",
        "\n",
        "✔ Ultralitycs Platform Documentsation Like hel file for Given Task\n",
        "\n",
        "✔ Code file (Python Notebook or Script)\n",
        "\n",
        "✔ Dataset or link to the dataset\n",
        "\n",
        "✔ Visualizations (if applicable)\n",
        "\n",
        "✔ Screenshots of model performance metrics\n",
        "\n",
        "✔ Readme File\n",
        "\n",
        "✔ Evaluation Metrics Details and discussion\n",
        "\n"
      ],
      "metadata": {
        "id": "lOPAYmS2RVAn"
      }
    }
  ]
}